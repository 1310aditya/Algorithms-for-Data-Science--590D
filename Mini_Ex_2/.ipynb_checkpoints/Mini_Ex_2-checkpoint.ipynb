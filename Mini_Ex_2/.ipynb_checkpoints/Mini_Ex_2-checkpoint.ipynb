{
 "cells": [
  {
   "cell_type": "markdown",
   "metadata": {},
   "source": [
    "## Mini-Exercise- 2 \n",
    "#### By Aditya Agrawal"
   ]
  },
  {
   "cell_type": "markdown",
   "metadata": {},
   "source": [
    "Importing libraries and initializing parameters and structues required."
   ]
  },
  {
   "cell_type": "code",
   "execution_count": 1,
   "metadata": {
    "collapsed": true
   },
   "outputs": [],
   "source": [
    "import math\n",
    "import random\n",
    "from collections import defaultdict\n",
    "import matplotlib.pyplot as plt\n",
    "\n",
    "ep = 0.0001\n",
    "d = 25\n",
    "N = 1000000\n",
    "U = (1,1000)\n",
    "p = 32443\n",
    "true_freq = defaultdict(int)\n",
    "count_min_freq = defaultdict(int)\n",
    "width = int(math.e//ep)\n",
    "n = width\n",
    "    \n",
    "T = [[0] * width] * d"
   ]
  },
  {
   "cell_type": "markdown",
   "metadata": {},
   "source": [
    "#### Generating Values for a and b of different hash function"
   ]
  },
  {
   "cell_type": "code",
   "execution_count": 2,
   "metadata": {
    "collapsed": true
   },
   "outputs": [],
   "source": [
    "a = []\n",
    "b = []\n",
    "\n",
    "for i in range(d):\n",
    "    a.append(random.randint(1, p-1))\n",
    "    b.append(random.randint(0, p))"
   ]
  },
  {
   "cell_type": "markdown",
   "metadata": {},
   "source": [
    "#### Hashing Input Stream to Matrix T ( Count-min sketch data structure)"
   ]
  },
  {
   "cell_type": "code",
   "execution_count": 3,
   "metadata": {
    "collapsed": true
   },
   "outputs": [],
   "source": [
    "for __ in range(N):\n",
    "    value = random.randint(1, 1000)\n",
    "    true_freq[value] += 1    \n",
    "    for i in range(d):\n",
    "        T[i][(a[i] * value + b[i]) % p % n] += 1"
   ]
  },
  {
   "cell_type": "markdown",
   "metadata": {},
   "source": [
    "#### Generating approximate frequencies of every element using T\n",
    "\n",
    "Samples counts have also been printed out."
   ]
  },
  {
   "cell_type": "code",
   "execution_count": 4,
   "metadata": {},
   "outputs": [
    {
     "name": "stdout",
     "output_type": "stream",
     "text": [
      "True Count for 151:\n",
      "1009\n",
      "Min Count for 151:\n",
      "1009\n",
      "True Count for 493:\n",
      "1016\n",
      "Min Count for 493:\n",
      "1016\n",
      "True Count for 741:\n",
      "973\n",
      "Min Count for 741:\n",
      "973\n",
      "True Count for 240:\n",
      "1011\n",
      "Min Count for 240:\n",
      "1011\n"
     ]
    }
   ],
   "source": [
    "for key in true_freq.keys():\n",
    "    counts = []\n",
    "    for i in range(d):\n",
    "        counts.append(T[i][(a[i] * int(key) + b[i]) % p % n])\n",
    "    count_min_freq[key] = min(counts)\n",
    "\n",
    "for key in list(true_freq.keys())[1:5]:\n",
    "    print(\"True Count for {}:\".format(key))\n",
    "    print(true_freq[key])\n",
    "    print(\"Min Count for {}:\".format(key))\n",
    "    print(count_min_freq[key])"
   ]
  },
  {
   "cell_type": "markdown",
   "metadata": {},
   "source": [
    "## Plot 1: True frequency counts:"
   ]
  },
  {
   "cell_type": "code",
   "execution_count": 5,
   "metadata": {},
   "outputs": [
    {
     "data": {
      "image/png": "[encoded data removed]",
      "text/plain": [
       "<matplotlib.figure.Figure at 0x107564be0>"
      ]
     },
     "metadata": {},
     "output_type": "display_data"
    }
   ],
   "source": [
    "plt.figure(figsize = (15,3))\n",
    "plt.bar(sorted(true_freq.keys()), [true_freq[key] for key in sorted(true_freq.keys())], label = \"Counts of Stream data\")\n",
    "legend = plt.legend(loc = 'upper right', shadow = True)\n",
    "plt.ylim((900,1100))\n",
    "plt.title('True Frequency Counts')\n",
    "plt.show()"
   ]
  },
  {
   "cell_type": "markdown",
   "metadata": {},
   "source": [
    "## Plot 2: Count-Min sketch approximated frequency counts"
   ]
  },
  {
   "cell_type": "code",
   "execution_count": 6,
   "metadata": {},
   "outputs": [
    {
     "data": {
      "image/png": "[encoded data removed]",
      "text/plain": [
       "<matplotlib.figure.Figure at 0x110c1cd68>"
      ]
     },
     "metadata": {},
     "output_type": "display_data"
    }
   ],
   "source": [
    "plt.figure(figsize = (15,3))\n",
    "plt.bar(sorted(count_min_freq.keys()), [count_min_freq[key] for key in sorted(count_min_freq.keys())],color = 'g', label = \"Counts of Stream data\")\n",
    "plt.ylim((900,1100))\n",
    "plt.title('Approximate Frequency Counts')\n",
    "legend = plt.legend(loc = 'upper right', shadow = True)\n",
    "plt.show()"
   ]
  }
 ],
 "metadata": {
  "kernelspec": {
   "display_name": "Python 3",
   "language": "python",
   "name": "python3"
  },
  "language_info": {
   "codemirror_mode": {
    "name": "ipython",
    "version": 3
   },
   "file_extension": ".py",
   "mimetype": "text/x-python",
   "name": "python",
   "nbconvert_exporter": "python",
   "pygments_lexer": "ipython3",
   "version": "3.6.1"
  }
 },
 "nbformat": 4,
 "nbformat_minor": 2
}
